{
 "cells": [
  {
   "cell_type": "markdown",
   "id": "f34dce80",
   "metadata": {},
   "source": [
    "# IMPORTING PANDAS"
   ]
  },
  {
   "cell_type": "code",
   "execution_count": 65,
   "id": "38f0739c",
   "metadata": {},
   "outputs": [],
   "source": [
    "import pandas as pd\n",
    "import numpy as np\n"
   ]
  },
  {
   "cell_type": "markdown",
   "id": "f02c4012",
   "metadata": {},
   "source": [
    "# READING CONV.TXT FILE"
   ]
  },
  {
   "cell_type": "code",
   "execution_count": 66,
   "id": "467cf740",
   "metadata": {},
   "outputs": [],
   "source": [
    "data=pd.read_csv(r\"C:\\\\Users\\NEKEAPOLLO\\scripts\\conv.txt\",delimiter='\\t',header=None)"
   ]
  },
  {
   "cell_type": "code",
   "execution_count": 67,
   "id": "bd7933fc",
   "metadata": {},
   "outputs": [],
   "source": [
    "data.rename(columns={0:'Dailouges'},inplace=True)"
   ]
  },
  {
   "cell_type": "code",
   "execution_count": 68,
   "id": "3a59f41e",
   "metadata": {},
   "outputs": [
    {
     "data": {
      "text/html": [
       "<div>\n",
       "<style scoped>\n",
       "    .dataframe tbody tr th:only-of-type {\n",
       "        vertical-align: middle;\n",
       "    }\n",
       "\n",
       "    .dataframe tbody tr th {\n",
       "        vertical-align: top;\n",
       "    }\n",
       "\n",
       "    .dataframe thead th {\n",
       "        text-align: right;\n",
       "    }\n",
       "</style>\n",
       "<table border=\"1\" class=\"dataframe\">\n",
       "  <thead>\n",
       "    <tr style=\"text-align: right;\">\n",
       "      <th></th>\n",
       "      <th>Dailouges</th>\n",
       "    </tr>\n",
       "  </thead>\n",
       "  <tbody>\n",
       "    <tr>\n",
       "      <th>0</th>\n",
       "      <td>WILL: I’ve never seen wildlings do a thing lik...</td>\n",
       "    </tr>\n",
       "    <tr>\n",
       "      <th>1</th>\n",
       "      <td>WAYMAR ROYCE: How close did you get?</td>\n",
       "    </tr>\n",
       "    <tr>\n",
       "      <th>2</th>\n",
       "      <td>WILL: Close as any man would.</td>\n",
       "    </tr>\n",
       "    <tr>\n",
       "      <th>3</th>\n",
       "      <td>GARED: We should head back to the wall.</td>\n",
       "    </tr>\n",
       "    <tr>\n",
       "      <th>4</th>\n",
       "      <td>ROYCE: Do the dead frighten you?</td>\n",
       "    </tr>\n",
       "    <tr>\n",
       "      <th>...</th>\n",
       "      <td>...</td>\n",
       "    </tr>\n",
       "    <tr>\n",
       "      <th>106</th>\n",
       "      <td>NED: Tell me about Jon Arryn.</td>\n",
       "    </tr>\n",
       "    <tr>\n",
       "      <th>107</th>\n",
       "      <td>ROBERT: One minute he was fine, and then … Bur...</td>\n",
       "    </tr>\n",
       "    <tr>\n",
       "      <th>108</th>\n",
       "      <td>NED: We both did.</td>\n",
       "    </tr>\n",
       "    <tr>\n",
       "      <th>109</th>\n",
       "      <td>ROBERT: He never had to teach you much, but me...</td>\n",
       "    </tr>\n",
       "    <tr>\n",
       "      <th>110</th>\n",
       "      <td>NED: Aye.</td>\n",
       "    </tr>\n",
       "  </tbody>\n",
       "</table>\n",
       "<p>111 rows × 1 columns</p>\n",
       "</div>"
      ],
      "text/plain": [
       "                                             Dailouges\n",
       "0    WILL: I’ve never seen wildlings do a thing lik...\n",
       "1                 WAYMAR ROYCE: How close did you get?\n",
       "2                        WILL: Close as any man would.\n",
       "3              GARED: We should head back to the wall.\n",
       "4                     ROYCE: Do the dead frighten you?\n",
       "..                                                 ...\n",
       "106                      NED: Tell me about Jon Arryn.\n",
       "107  ROBERT: One minute he was fine, and then … Bur...\n",
       "108                                  NED: We both did.\n",
       "109  ROBERT: He never had to teach you much, but me...\n",
       "110                                          NED: Aye.\n",
       "\n",
       "[111 rows x 1 columns]"
      ]
     },
     "execution_count": 68,
     "metadata": {},
     "output_type": "execute_result"
    }
   ],
   "source": [
    "data"
   ]
  },
  {
   "cell_type": "markdown",
   "id": "f8e6cdcf",
   "metadata": {},
   "source": [
    "# PREPROCESSING DATA"
   ]
  },
  {
   "cell_type": "code",
   "execution_count": 69,
   "id": "e639d366",
   "metadata": {},
   "outputs": [],
   "source": [
    "new_data=data['Dailouges'].str.split(':',expand=True,)"
   ]
  },
  {
   "cell_type": "code",
   "execution_count": 70,
   "id": "aa7581a7",
   "metadata": {},
   "outputs": [
    {
     "data": {
      "text/html": [
       "<div>\n",
       "<style scoped>\n",
       "    .dataframe tbody tr th:only-of-type {\n",
       "        vertical-align: middle;\n",
       "    }\n",
       "\n",
       "    .dataframe tbody tr th {\n",
       "        vertical-align: top;\n",
       "    }\n",
       "\n",
       "    .dataframe thead th {\n",
       "        text-align: right;\n",
       "    }\n",
       "</style>\n",
       "<table border=\"1\" class=\"dataframe\">\n",
       "  <thead>\n",
       "    <tr style=\"text-align: right;\">\n",
       "      <th></th>\n",
       "      <th>0</th>\n",
       "      <th>1</th>\n",
       "    </tr>\n",
       "  </thead>\n",
       "  <tbody>\n",
       "    <tr>\n",
       "      <th>0</th>\n",
       "      <td>WILL</td>\n",
       "      <td>I’ve never seen wildlings do a thing like thi...</td>\n",
       "    </tr>\n",
       "    <tr>\n",
       "      <th>1</th>\n",
       "      <td>WAYMAR ROYCE</td>\n",
       "      <td>How close did you get?</td>\n",
       "    </tr>\n",
       "    <tr>\n",
       "      <th>2</th>\n",
       "      <td>WILL</td>\n",
       "      <td>Close as any man would.</td>\n",
       "    </tr>\n",
       "    <tr>\n",
       "      <th>3</th>\n",
       "      <td>GARED</td>\n",
       "      <td>We should head back to the wall.</td>\n",
       "    </tr>\n",
       "    <tr>\n",
       "      <th>4</th>\n",
       "      <td>ROYCE</td>\n",
       "      <td>Do the dead frighten you?</td>\n",
       "    </tr>\n",
       "    <tr>\n",
       "      <th>...</th>\n",
       "      <td>...</td>\n",
       "      <td>...</td>\n",
       "    </tr>\n",
       "    <tr>\n",
       "      <th>106</th>\n",
       "      <td>NED</td>\n",
       "      <td>Tell me about Jon Arryn.</td>\n",
       "    </tr>\n",
       "    <tr>\n",
       "      <th>107</th>\n",
       "      <td>ROBERT</td>\n",
       "      <td>One minute he was fine, and then … Burned rig...</td>\n",
       "    </tr>\n",
       "    <tr>\n",
       "      <th>108</th>\n",
       "      <td>NED</td>\n",
       "      <td>We both did.</td>\n",
       "    </tr>\n",
       "    <tr>\n",
       "      <th>109</th>\n",
       "      <td>ROBERT</td>\n",
       "      <td>He never had to teach you much, but me … You ...</td>\n",
       "    </tr>\n",
       "    <tr>\n",
       "      <th>110</th>\n",
       "      <td>NED</td>\n",
       "      <td>Aye.</td>\n",
       "    </tr>\n",
       "  </tbody>\n",
       "</table>\n",
       "<p>111 rows × 2 columns</p>\n",
       "</div>"
      ],
      "text/plain": [
       "                0                                                  1\n",
       "0            WILL   I’ve never seen wildlings do a thing like thi...\n",
       "1    WAYMAR ROYCE                             How close did you get?\n",
       "2            WILL                            Close as any man would.\n",
       "3           GARED                   We should head back to the wall.\n",
       "4           ROYCE                          Do the dead frighten you?\n",
       "..            ...                                                ...\n",
       "106           NED                           Tell me about Jon Arryn.\n",
       "107        ROBERT   One minute he was fine, and then … Burned rig...\n",
       "108           NED                                       We both did.\n",
       "109        ROBERT   He never had to teach you much, but me … You ...\n",
       "110           NED                                               Aye.\n",
       "\n",
       "[111 rows x 2 columns]"
      ]
     },
     "execution_count": 70,
     "metadata": {},
     "output_type": "execute_result"
    }
   ],
   "source": [
    "new_data                                                  #SEPRATING CHARACTERS AND THEIR DAILOUGES"
   ]
  },
  {
   "cell_type": "code",
   "execution_count": 71,
   "id": "48a24404",
   "metadata": {},
   "outputs": [],
   "source": [
    "new_data.rename(columns={0:'Characters'},inplace=True)\n",
    "new_data.rename(columns={1:'Dailouges'},inplace=True)"
   ]
  },
  {
   "cell_type": "code",
   "execution_count": 72,
   "id": "de98ef53",
   "metadata": {},
   "outputs": [
    {
     "data": {
      "text/html": [
       "<div>\n",
       "<style scoped>\n",
       "    .dataframe tbody tr th:only-of-type {\n",
       "        vertical-align: middle;\n",
       "    }\n",
       "\n",
       "    .dataframe tbody tr th {\n",
       "        vertical-align: top;\n",
       "    }\n",
       "\n",
       "    .dataframe thead th {\n",
       "        text-align: right;\n",
       "    }\n",
       "</style>\n",
       "<table border=\"1\" class=\"dataframe\">\n",
       "  <thead>\n",
       "    <tr style=\"text-align: right;\">\n",
       "      <th></th>\n",
       "      <th>Characters</th>\n",
       "      <th>Dailouges</th>\n",
       "    </tr>\n",
       "  </thead>\n",
       "  <tbody>\n",
       "    <tr>\n",
       "      <th>0</th>\n",
       "      <td>WILL</td>\n",
       "      <td>I’ve never seen wildlings do a thing like thi...</td>\n",
       "    </tr>\n",
       "    <tr>\n",
       "      <th>1</th>\n",
       "      <td>WAYMAR ROYCE</td>\n",
       "      <td>How close did you get?</td>\n",
       "    </tr>\n",
       "    <tr>\n",
       "      <th>2</th>\n",
       "      <td>WILL</td>\n",
       "      <td>Close as any man would.</td>\n",
       "    </tr>\n",
       "    <tr>\n",
       "      <th>3</th>\n",
       "      <td>GARED</td>\n",
       "      <td>We should head back to the wall.</td>\n",
       "    </tr>\n",
       "    <tr>\n",
       "      <th>4</th>\n",
       "      <td>ROYCE</td>\n",
       "      <td>Do the dead frighten you?</td>\n",
       "    </tr>\n",
       "    <tr>\n",
       "      <th>...</th>\n",
       "      <td>...</td>\n",
       "      <td>...</td>\n",
       "    </tr>\n",
       "    <tr>\n",
       "      <th>106</th>\n",
       "      <td>NED</td>\n",
       "      <td>Tell me about Jon Arryn.</td>\n",
       "    </tr>\n",
       "    <tr>\n",
       "      <th>107</th>\n",
       "      <td>ROBERT</td>\n",
       "      <td>One minute he was fine, and then … Burned rig...</td>\n",
       "    </tr>\n",
       "    <tr>\n",
       "      <th>108</th>\n",
       "      <td>NED</td>\n",
       "      <td>We both did.</td>\n",
       "    </tr>\n",
       "    <tr>\n",
       "      <th>109</th>\n",
       "      <td>ROBERT</td>\n",
       "      <td>He never had to teach you much, but me … You ...</td>\n",
       "    </tr>\n",
       "    <tr>\n",
       "      <th>110</th>\n",
       "      <td>NED</td>\n",
       "      <td>Aye.</td>\n",
       "    </tr>\n",
       "  </tbody>\n",
       "</table>\n",
       "<p>111 rows × 2 columns</p>\n",
       "</div>"
      ],
      "text/plain": [
       "       Characters                                          Dailouges\n",
       "0            WILL   I’ve never seen wildlings do a thing like thi...\n",
       "1    WAYMAR ROYCE                             How close did you get?\n",
       "2            WILL                            Close as any man would.\n",
       "3           GARED                   We should head back to the wall.\n",
       "4           ROYCE                          Do the dead frighten you?\n",
       "..            ...                                                ...\n",
       "106           NED                           Tell me about Jon Arryn.\n",
       "107        ROBERT   One minute he was fine, and then … Burned rig...\n",
       "108           NED                                       We both did.\n",
       "109        ROBERT   He never had to teach you much, but me … You ...\n",
       "110           NED                                               Aye.\n",
       "\n",
       "[111 rows x 2 columns]"
      ]
     },
     "execution_count": 72,
     "metadata": {},
     "output_type": "execute_result"
    }
   ],
   "source": [
    "new_data\n"
   ]
  },
  {
   "cell_type": "code",
   "execution_count": 73,
   "id": "1c07e010",
   "metadata": {},
   "outputs": [
    {
     "data": {
      "text/html": [
       "<div>\n",
       "<style scoped>\n",
       "    .dataframe tbody tr th:only-of-type {\n",
       "        vertical-align: middle;\n",
       "    }\n",
       "\n",
       "    .dataframe tbody tr th {\n",
       "        vertical-align: top;\n",
       "    }\n",
       "\n",
       "    .dataframe thead th {\n",
       "        text-align: right;\n",
       "    }\n",
       "</style>\n",
       "<table border=\"1\" class=\"dataframe\">\n",
       "  <thead>\n",
       "    <tr style=\"text-align: right;\">\n",
       "      <th></th>\n",
       "      <th>Dailouges</th>\n",
       "    </tr>\n",
       "    <tr>\n",
       "      <th>Characters</th>\n",
       "      <th></th>\n",
       "    </tr>\n",
       "  </thead>\n",
       "  <tbody>\n",
       "    <tr>\n",
       "      <th>ARYA</th>\n",
       "      <td>4</td>\n",
       "    </tr>\n",
       "    <tr>\n",
       "      <th>BRAN</th>\n",
       "      <td>10</td>\n",
       "    </tr>\n",
       "    <tr>\n",
       "      <th>CASSEL</th>\n",
       "      <td>3</td>\n",
       "    </tr>\n",
       "    <tr>\n",
       "      <th>CATELYN</th>\n",
       "      <td>10</td>\n",
       "    </tr>\n",
       "    <tr>\n",
       "      <th>CERSEI</th>\n",
       "      <td>5</td>\n",
       "    </tr>\n",
       "    <tr>\n",
       "      <th>GARED</th>\n",
       "      <td>3</td>\n",
       "    </tr>\n",
       "    <tr>\n",
       "      <th>JAIME</th>\n",
       "      <td>3</td>\n",
       "    </tr>\n",
       "    <tr>\n",
       "      <th>JON</th>\n",
       "      <td>10</td>\n",
       "    </tr>\n",
       "    <tr>\n",
       "      <th>NED</th>\n",
       "      <td>27</td>\n",
       "    </tr>\n",
       "    <tr>\n",
       "      <th>ROBB</th>\n",
       "      <td>7</td>\n",
       "    </tr>\n",
       "    <tr>\n",
       "      <th>ROBERT</th>\n",
       "      <td>9</td>\n",
       "    </tr>\n",
       "    <tr>\n",
       "      <th>ROYCE</th>\n",
       "      <td>5</td>\n",
       "    </tr>\n",
       "    <tr>\n",
       "      <th>SANSA</th>\n",
       "      <td>3</td>\n",
       "    </tr>\n",
       "    <tr>\n",
       "      <th>SEPTA MORDANE</th>\n",
       "      <td>2</td>\n",
       "    </tr>\n",
       "    <tr>\n",
       "      <th>THEON</th>\n",
       "      <td>5</td>\n",
       "    </tr>\n",
       "    <tr>\n",
       "      <th>WAYMAR ROYCE</th>\n",
       "      <td>1</td>\n",
       "    </tr>\n",
       "    <tr>\n",
       "      <th>WILL</th>\n",
       "      <td>4</td>\n",
       "    </tr>\n",
       "  </tbody>\n",
       "</table>\n",
       "</div>"
      ],
      "text/plain": [
       "               Dailouges\n",
       "Characters              \n",
       "ARYA                   4\n",
       "BRAN                  10\n",
       "CASSEL                 3\n",
       "CATELYN               10\n",
       "CERSEI                 5\n",
       "GARED                  3\n",
       "JAIME                  3\n",
       "JON                   10\n",
       "NED                   27\n",
       "ROBB                   7\n",
       "ROBERT                 9\n",
       "ROYCE                  5\n",
       "SANSA                  3\n",
       "SEPTA MORDANE          2\n",
       "THEON                  5\n",
       "WAYMAR ROYCE           1\n",
       "WILL                   4"
      ]
     },
     "execution_count": 73,
     "metadata": {},
     "output_type": "execute_result"
    }
   ],
   "source": [
    "character_count=new_data.groupby('Characters').count()                 #GROUPING CHARACTERS \n",
    "character_count"
   ]
  },
  {
   "cell_type": "code",
   "execution_count": 74,
   "id": "042910fe",
   "metadata": {},
   "outputs": [
    {
     "data": {
      "text/plain": [
       "(17, 1)"
      ]
     },
     "execution_count": 74,
     "metadata": {},
     "output_type": "execute_result"
    }
   ],
   "source": [
    "character_count.shape                         #THIS TELLS US THAT THERE ARE 17 UNIQUE CHARACTERS"
   ]
  },
  {
   "cell_type": "code",
   "execution_count": 75,
   "id": "31637d8c",
   "metadata": {},
   "outputs": [
    {
     "data": {
      "text/html": [
       "<div>\n",
       "<style scoped>\n",
       "    .dataframe tbody tr th:only-of-type {\n",
       "        vertical-align: middle;\n",
       "    }\n",
       "\n",
       "    .dataframe tbody tr th {\n",
       "        vertical-align: top;\n",
       "    }\n",
       "\n",
       "    .dataframe thead th {\n",
       "        text-align: right;\n",
       "    }\n",
       "</style>\n",
       "<table border=\"1\" class=\"dataframe\">\n",
       "  <thead>\n",
       "    <tr style=\"text-align: right;\">\n",
       "      <th></th>\n",
       "      <th>Dailouges</th>\n",
       "    </tr>\n",
       "    <tr>\n",
       "      <th>Characters</th>\n",
       "      <th></th>\n",
       "    </tr>\n",
       "  </thead>\n",
       "  <tbody>\n",
       "    <tr>\n",
       "      <th>ARYA</th>\n",
       "      <td>Where’s the Imp?</td>\n",
       "    </tr>\n",
       "    <tr>\n",
       "      <th>BRAN</th>\n",
       "      <td>Jon said he was a deserter.</td>\n",
       "    </tr>\n",
       "    <tr>\n",
       "      <th>CASSEL</th>\n",
       "      <td>Lord Stark. My lady. A guardsman just rode in...</td>\n",
       "    </tr>\n",
       "    <tr>\n",
       "      <th>CATELYN</th>\n",
       "      <td>Do you have to?</td>\n",
       "    </tr>\n",
       "    <tr>\n",
       "      <th>CERSEI</th>\n",
       "      <td>What if Jon Arryn told someone?</td>\n",
       "    </tr>\n",
       "    <tr>\n",
       "      <th>GARED</th>\n",
       "      <td>We should head back to the wall.</td>\n",
       "    </tr>\n",
       "    <tr>\n",
       "      <th>JAIME</th>\n",
       "      <td>But who would he tell?</td>\n",
       "    </tr>\n",
       "    <tr>\n",
       "      <th>JON</th>\n",
       "      <td>Go on. Father’s watching.</td>\n",
       "    </tr>\n",
       "    <tr>\n",
       "      <th>NED</th>\n",
       "      <td>And which one of you was a marksman at ten? K...</td>\n",
       "    </tr>\n",
       "    <tr>\n",
       "      <th>ROBB</th>\n",
       "      <td>Relax your bow arm.</td>\n",
       "    </tr>\n",
       "    <tr>\n",
       "      <th>ROBERT</th>\n",
       "      <td>You’ve got fat.</td>\n",
       "    </tr>\n",
       "    <tr>\n",
       "      <th>ROYCE</th>\n",
       "      <td>Do the dead frighten you?</td>\n",
       "    </tr>\n",
       "    <tr>\n",
       "      <th>SANSA</th>\n",
       "      <td>Thank you.</td>\n",
       "    </tr>\n",
       "    <tr>\n",
       "      <th>SEPTA MORDANE</th>\n",
       "      <td>Fine work, as always. Well done.</td>\n",
       "    </tr>\n",
       "    <tr>\n",
       "      <th>THEON</th>\n",
       "      <td>Mountain lion?</td>\n",
       "    </tr>\n",
       "    <tr>\n",
       "      <th>WAYMAR ROYCE</th>\n",
       "      <td>How close did you get?</td>\n",
       "    </tr>\n",
       "    <tr>\n",
       "      <th>WILL</th>\n",
       "      <td>I’ve never seen wildlings do a thing like thi...</td>\n",
       "    </tr>\n",
       "  </tbody>\n",
       "</table>\n",
       "</div>"
      ],
      "text/plain": [
       "                                                       Dailouges\n",
       "Characters                                                      \n",
       "ARYA                                            Where’s the Imp?\n",
       "BRAN                                 Jon said he was a deserter.\n",
       "CASSEL          Lord Stark. My lady. A guardsman just rode in...\n",
       "CATELYN                                          Do you have to?\n",
       "CERSEI                           What if Jon Arryn told someone?\n",
       "GARED                           We should head back to the wall.\n",
       "JAIME                                     But who would he tell?\n",
       "JON                                    Go on. Father’s watching.\n",
       "NED             And which one of you was a marksman at ten? K...\n",
       "ROBB                                         Relax your bow arm.\n",
       "ROBERT                                           You’ve got fat.\n",
       "ROYCE                                  Do the dead frighten you?\n",
       "SANSA                                                 Thank you.\n",
       "SEPTA MORDANE                   Fine work, as always. Well done.\n",
       "THEON                                             Mountain lion?\n",
       "WAYMAR ROYCE                              How close did you get?\n",
       "WILL            I’ve never seen wildlings do a thing like thi..."
      ]
     },
     "execution_count": 75,
     "metadata": {},
     "output_type": "execute_result"
    }
   ],
   "source": [
    "character_groups=new_data.groupby(\"Characters\")\n",
    "character_groups.first()"
   ]
  },
  {
   "cell_type": "markdown",
   "id": "47153d92",
   "metadata": {},
   "source": [
    "# ARYA"
   ]
  },
  {
   "cell_type": "code",
   "execution_count": 87,
   "id": "df0d38c1",
   "metadata": {
    "scrolled": true
   },
   "outputs": [
    {
     "data": {
      "text/plain": [
       "92                                      Where’s the Imp?\n",
       "95                                                 Arya.\n",
       "97      That’s Jaime Lannister. The queen’s twin brot...\n",
       "104                                     Where’s the Imp?\n",
       "Name: Dailouges, dtype: object"
      ]
     },
     "execution_count": 87,
     "metadata": {},
     "output_type": "execute_result"
    }
   ],
   "source": [
    "C1=character_groups.get_group('ARYA')['Dailouges']\n",
    "C1                                                         #STORING DAILOUGES IN A NEW DATAFRAME"
   ]
  },
  {
   "cell_type": "code",
   "execution_count": 88,
   "id": "dd349d72",
   "metadata": {},
   "outputs": [],
   "source": [
    "C1.to_csv(r'C:\\\\Users\\NEKEAPOLLO\\scripts\\C1.txt',index=False ,header=False) #SAVING FILE AS CSV"
   ]
  },
  {
   "cell_type": "code",
   "execution_count": 89,
   "id": "cd3fc8c3",
   "metadata": {},
   "outputs": [
    {
     "data": {
      "text/plain": [
       "['arya',\n",
       " 'brother',\n",
       " 'imp?',\n",
       " 'jaime',\n",
       " 'lannister',\n",
       " 'queens',\n",
       " 'thats',\n",
       " 'the',\n",
       " 'twin',\n",
       " 'wheres']"
      ]
     },
     "execution_count": 89,
     "metadata": {},
     "output_type": "execute_result"
    }
   ],
   "source": [
    "    #CLEANING DATA\n",
    "    \n",
    "    text_file=open(r'C:\\\\Users\\NEKEAPOLLO\\scripts\\C1.txt')\n",
    "    text=text_file.read()\n",
    "    text=text.lower()                                          #CONVERTING TO LOWER CASES\n",
    "    words=text.split()                                         #SPLITING WORDS SEPRATED BY WHITE SPACE\n",
    "    words=[word.strip('.,!;()[]') for word in words]           \n",
    "    words=[word.replace('â€™','') for word in words]           #UTF ENCODING\n",
    "    unique=[]\n",
    "    for word in words:\n",
    "            if word not in unique:\n",
    "                unique.append(word)\n",
    "    unique.sort()\n",
    "    unique\n",
    "    "
   ]
  },
  {
   "cell_type": "code",
   "execution_count": 85,
   "id": "8ea0e405",
   "metadata": {},
   "outputs": [],
   "source": [
    "ARYA1=unique                                         #SAVING THE SERIES\n",
    "ARYA2=pd.DataFrame(ARYA1)                            #CONVERTING SERIES TO DATAFRAME"
   ]
  },
  {
   "cell_type": "code",
   "execution_count": 86,
   "id": "4e846232",
   "metadata": {},
   "outputs": [],
   "source": [
    "ARYA2.to_csv(r'C:\\\\Users\\NEKEAPOLLO\\scripts\\ARYA.txt',index=False ,header=False) #SAVING FINAL FILE"
   ]
  },
  {
   "cell_type": "markdown",
   "id": "6e16c3ad",
   "metadata": {},
   "source": [
    "# BRAN "
   ]
  },
  {
   "cell_type": "code",
   "execution_count": 91,
   "id": "7b73079f",
   "metadata": {},
   "outputs": [
    {
     "data": {
      "text/plain": [
       "35                      Jon said he was a deserter.\n",
       "37                          Our way is the old way?\n",
       "39             Is it true he saw the White Walkers?\n",
       "41                                 So he was lying?\n",
       "52         Where will they go? Their mother’s dead.\n",
       "56                                              NO!\n",
       "59                                  Please, father!\n",
       "63                                  What about you?\n",
       "82     I saw the king! He’s got hundreds of people!\n",
       "84        But he’s coming right now! Down our road!\n",
       "Name: Dailouges, dtype: object"
      ]
     },
     "execution_count": 91,
     "metadata": {},
     "output_type": "execute_result"
    }
   ],
   "source": [
    "C2=character_groups.get_group('BRAN')['Dailouges']\n",
    "C2"
   ]
  },
  {
   "cell_type": "code",
   "execution_count": 98,
   "id": "b84c77b5",
   "metadata": {},
   "outputs": [],
   "source": [
    "C2.to_csv(r'C:\\\\Users\\NEKEAPOLLO\\scripts\\C2.txt',index=False ,header=False) "
   ]
  },
  {
   "cell_type": "code",
   "execution_count": 101,
   "id": "cf1b0464",
   "metadata": {},
   "outputs": [
    {
     "data": {
      "text/plain": [
       "['\"',\n",
       " 'a',\n",
       " 'about',\n",
       " 'but',\n",
       " 'coming',\n",
       " 'dead',\n",
       " 'deserter',\n",
       " 'down',\n",
       " 'father!\"',\n",
       " 'go?',\n",
       " 'got',\n",
       " 'he',\n",
       " 'hes',\n",
       " 'hundreds',\n",
       " 'i',\n",
       " 'is',\n",
       " 'it',\n",
       " 'jon',\n",
       " 'king',\n",
       " 'lying?',\n",
       " 'mothers',\n",
       " 'no',\n",
       " 'now',\n",
       " 'of',\n",
       " 'old',\n",
       " 'our',\n",
       " 'people',\n",
       " 'please',\n",
       " 'right',\n",
       " 'road',\n",
       " 'said',\n",
       " 'saw',\n",
       " 'so',\n",
       " 'the',\n",
       " 'their',\n",
       " 'they',\n",
       " 'true',\n",
       " 'walkers?',\n",
       " 'was',\n",
       " 'way',\n",
       " 'way?',\n",
       " 'what',\n",
       " 'where',\n",
       " 'white',\n",
       " 'will',\n",
       " 'you?']"
      ]
     },
     "execution_count": 101,
     "metadata": {},
     "output_type": "execute_result"
    }
   ],
   "source": [
    "\n",
    "    text_file=open(r'C:\\\\Users\\NEKEAPOLLO\\scripts\\C2.txt')\n",
    "    text=text_file.read()\n",
    "    text=text.lower()\n",
    "    words=text.split()\n",
    "    words=[word.strip('.,!;()[]') for word in words]\n",
    "    words=[word.replace('â€™','') for word in words]\n",
    "    unique=[]\n",
    "    for word in words:\n",
    "            if word not in unique:\n",
    "                unique.append(word)\n",
    "    unique.sort()\n",
    "    unique"
   ]
  },
  {
   "cell_type": "code",
   "execution_count": 102,
   "id": "b654266c",
   "metadata": {},
   "outputs": [],
   "source": [
    "BRAN=unique\n",
    "BRAN1=pd.DataFrame(BRAN)"
   ]
  },
  {
   "cell_type": "code",
   "execution_count": 104,
   "id": "5945811a",
   "metadata": {},
   "outputs": [],
   "source": [
    "BRAN1.to_csv(r'C:\\\\Users\\NEKEAPOLLO\\scripts\\BRAN.txt',index=False,header=False)"
   ]
  },
  {
   "cell_type": "markdown",
   "id": "e7d58cce",
   "metadata": {},
   "source": [
    "# CASSEL "
   ]
  },
  {
   "cell_type": "code",
   "execution_count": 105,
   "id": "c5654e01",
   "metadata": {},
   "outputs": [
    {
     "data": {
      "text/plain": [
       "21     Lord Stark. My lady. A guardsman just rode in...\n",
       "25                             The law is law, my lady.\n",
       "53                         They don’t belong down here.\n",
       "Name: Dailouges, dtype: object"
      ]
     },
     "execution_count": 105,
     "metadata": {},
     "output_type": "execute_result"
    }
   ],
   "source": [
    "C3=character_groups.get_group('CASSEL')['Dailouges']\n",
    "C3"
   ]
  },
  {
   "cell_type": "code",
   "execution_count": 106,
   "id": "0d112663",
   "metadata": {},
   "outputs": [],
   "source": [
    "C3.to_csv(r'C:\\\\Users\\NEKEAPOLLO\\scripts\\C3.txt',index=False ,header=False) "
   ]
  },
  {
   "cell_type": "code",
   "execution_count": 110,
   "id": "7a2144f3",
   "metadata": {},
   "outputs": [
    {
     "data": {
      "text/plain": [
       "['\"',\n",
       " 'a',\n",
       " 'belong',\n",
       " 'captured',\n",
       " 'deserter',\n",
       " 'dont',\n",
       " 'down',\n",
       " 'from',\n",
       " 'guardsman',\n",
       " 'here',\n",
       " 'hills',\n",
       " 'in',\n",
       " 'is',\n",
       " 'just',\n",
       " 'lady',\n",
       " 'lady.\"',\n",
       " 'law',\n",
       " 'lord',\n",
       " 'my',\n",
       " 'nights',\n",
       " 'rode',\n",
       " 'stark',\n",
       " 'the',\n",
       " 'they',\n",
       " 'theyve',\n",
       " 'watch']"
      ]
     },
     "execution_count": 110,
     "metadata": {},
     "output_type": "execute_result"
    }
   ],
   "source": [
    "\n",
    "    text_file=open(r'C:\\\\Users\\NEKEAPOLLO\\scripts\\C3.txt')\n",
    "    text=text_file.read()\n",
    "    text=text.lower()\n",
    "    words=text.split()\n",
    "    words=[word.strip('.,!;()[]') for word in words]\n",
    "    words=[word.replace('â€™','') for word in words]\n",
    "    unique=[]\n",
    "    for word in words:\n",
    "            if word not in unique:\n",
    "                unique.append(word)\n",
    "    unique.sort()\n",
    "    unique"
   ]
  },
  {
   "cell_type": "code",
   "execution_count": 111,
   "id": "ddf1faec",
   "metadata": {},
   "outputs": [],
   "source": [
    "CASSEL=unique\n",
    "CASSEL1=pd.DataFrame(CASSEL)"
   ]
  },
  {
   "cell_type": "code",
   "execution_count": 115,
   "id": "0e854897",
   "metadata": {},
   "outputs": [],
   "source": [
    "CASSEL1.to_csv(r'C:\\\\Users\\NEKEAPOLLO\\scripts\\CASSEL.txt',header=False,index=False)"
   ]
  },
  {
   "cell_type": "markdown",
   "id": "d9320a27",
   "metadata": {},
   "source": [
    "# CATELYN"
   ]
  },
  {
   "cell_type": "code",
   "execution_count": 116,
   "id": "3834930a",
   "metadata": {},
   "outputs": [
    {
     "data": {
      "text/plain": [
       "23                                       Do you have to?\n",
       "27             Ned. Ten is too young to see such things.\n",
       "72      All these years and I still feel like an outs...\n",
       "74                       I wonder if the old gods agree.\n",
       "76                               I am so sorry, my love.\n",
       "81                             Gods, but they grow fast.\n",
       "83           How many times have I told you No climbing!\n",
       "85           I want you to promise me. No more climbing.\n",
       "89                                           Your Grace.\n",
       "100                                            My queen.\n",
       "Name: Dailouges, dtype: object"
      ]
     },
     "execution_count": 116,
     "metadata": {},
     "output_type": "execute_result"
    }
   ],
   "source": [
    "C4=character_groups.get_group('CATELYN')['Dailouges']\n",
    "C4"
   ]
  },
  {
   "cell_type": "code",
   "execution_count": 117,
   "id": "e1811817",
   "metadata": {},
   "outputs": [],
   "source": [
    "C4.to_csv(r'C:\\\\Users\\NEKEAPOLLO\\scripts\\C4.txt',index=False ,header=False) "
   ]
  },
  {
   "cell_type": "code",
   "execution_count": 118,
   "id": "d86a2c0e",
   "metadata": {},
   "outputs": [
    {
     "data": {
      "text/plain": [
       "['\"',\n",
       " 'agree',\n",
       " 'all',\n",
       " 'am',\n",
       " 'an',\n",
       " 'and',\n",
       " 'but',\n",
       " 'climbing',\n",
       " 'come',\n",
       " 'do',\n",
       " 'fast.\"',\n",
       " 'feel',\n",
       " 'gods',\n",
       " 'grace',\n",
       " 'grow',\n",
       " 'have',\n",
       " 'here',\n",
       " 'how',\n",
       " 'i',\n",
       " 'if',\n",
       " 'is',\n",
       " 'like',\n",
       " 'love.\"',\n",
       " 'many',\n",
       " 'me',\n",
       " 'more',\n",
       " 'my',\n",
       " 'ned',\n",
       " 'no',\n",
       " 'old',\n",
       " 'outsider',\n",
       " 'promise',\n",
       " 'queen',\n",
       " 'see',\n",
       " 'so',\n",
       " 'sorry',\n",
       " 'still',\n",
       " 'such',\n",
       " 'ten',\n",
       " 'the',\n",
       " 'these',\n",
       " 'they',\n",
       " 'things',\n",
       " 'times',\n",
       " 'to',\n",
       " 'to?',\n",
       " 'told',\n",
       " 'too',\n",
       " 'want',\n",
       " 'when',\n",
       " 'wonder',\n",
       " 'years',\n",
       " 'you',\n",
       " 'young',\n",
       " 'your']"
      ]
     },
     "execution_count": 118,
     "metadata": {},
     "output_type": "execute_result"
    }
   ],
   "source": [
    "\n",
    "    text_file=open(r'C:\\\\Users\\NEKEAPOLLO\\scripts\\C4.txt')\n",
    "    text=text_file.read()\n",
    "    text=text.lower()\n",
    "    words=text.split()\n",
    "    words=[word.strip('.,!;()[]') for word in words]\n",
    "    words=[word.replace('â€™','') for word in words]\n",
    "    unique=[]\n",
    "    for word in words:\n",
    "            if word not in unique:\n",
    "                unique.append(word)\n",
    "    unique.sort()\n",
    "    unique"
   ]
  },
  {
   "cell_type": "code",
   "execution_count": 120,
   "id": "7c3bb943",
   "metadata": {},
   "outputs": [],
   "source": [
    "CATELYN=unique\n",
    "CATELYN2=pd.DataFrame(CATELYN)"
   ]
  },
  {
   "cell_type": "code",
   "execution_count": 121,
   "id": "486ef9cd",
   "metadata": {},
   "outputs": [],
   "source": [
    "CATELYN2.to_csv(r'C:\\\\Users\\NEKEAPOLLO\\scripts\\CATELYN.txt',index=False,header=False)"
   ]
  },
  {
   "cell_type": "markdown",
   "id": "be370860",
   "metadata": {},
   "source": [
    "# CERSEI"
   ]
  },
  {
   "cell_type": "code",
   "execution_count": 122,
   "id": "51b9d579",
   "metadata": {},
   "outputs": [
    {
     "data": {
      "text/plain": [
       "66                       What if Jon Arryn told someone?\n",
       "68                                           My husband.\n",
       "70                   You should be the Hand of the king.\n",
       "102     We’ve been riding for a month, my love. Surel...\n",
       "105      Where is our brother? Go find the little beast.\n",
       "Name: Dailouges, dtype: object"
      ]
     },
     "execution_count": 122,
     "metadata": {},
     "output_type": "execute_result"
    }
   ],
   "source": [
    "C5=character_groups.get_group('CERSEI')['Dailouges']\n",
    "C5"
   ]
  },
  {
   "cell_type": "code",
   "execution_count": 123,
   "id": "e059a838",
   "metadata": {},
   "outputs": [],
   "source": [
    "C5.to_csv(r'C:\\\\Users\\NEKEAPOLLO\\scripts\\C5.txt',index=False ,header=False) "
   ]
  },
  {
   "cell_type": "code",
   "execution_count": 124,
   "id": "86d0b96c",
   "metadata": {},
   "outputs": [
    {
     "data": {
      "text/plain": [
       "['\"',\n",
       " 'a',\n",
       " 'arryn',\n",
       " 'be',\n",
       " 'beast',\n",
       " 'been',\n",
       " 'brother?',\n",
       " 'can',\n",
       " 'dead',\n",
       " 'find',\n",
       " 'for',\n",
       " 'go',\n",
       " 'hand',\n",
       " 'husband',\n",
       " 'if',\n",
       " 'is',\n",
       " 'jon',\n",
       " 'king',\n",
       " 'little',\n",
       " 'love',\n",
       " 'month',\n",
       " 'my',\n",
       " 'of',\n",
       " 'our',\n",
       " 'riding',\n",
       " 'should',\n",
       " 'someone?',\n",
       " 'surely',\n",
       " 'the',\n",
       " 'told',\n",
       " 'wait.\"',\n",
       " 'weve',\n",
       " 'what',\n",
       " 'where',\n",
       " 'you']"
      ]
     },
     "execution_count": 124,
     "metadata": {},
     "output_type": "execute_result"
    }
   ],
   "source": [
    "\n",
    "    text_file=open(r'C:\\\\Users\\NEKEAPOLLO\\scripts\\C5.txt')\n",
    "    text=text_file.read()\n",
    "    text=text.lower()\n",
    "    words=text.split()\n",
    "    words=[word.strip('.,!;()[]') for word in words]\n",
    "    words=[word.replace('â€™','') for word in words]\n",
    "    unique=[]\n",
    "    for word in words:\n",
    "            if word not in unique:\n",
    "                unique.append(word)\n",
    "    unique.sort()\n",
    "    unique"
   ]
  },
  {
   "cell_type": "code",
   "execution_count": 125,
   "id": "e7ea6c7f",
   "metadata": {},
   "outputs": [],
   "source": [
    "CERSEI=unique\n",
    "CERSEI2=pd.DataFrame(CERSEI)"
   ]
  },
  {
   "cell_type": "code",
   "execution_count": 139,
   "id": "5268ce51",
   "metadata": {},
   "outputs": [],
   "source": [
    "CERSEI2.to_csv(r'C:\\\\Users\\NEKEAPOLLO\\scripts\\CERSEI.txt',index=False,header=False)"
   ]
  },
  {
   "cell_type": "markdown",
   "id": "8781d0ef",
   "metadata": {},
   "source": [
    "# GARED"
   ]
  },
  {
   "cell_type": "code",
   "execution_count": 128,
   "id": "0c4e0018",
   "metadata": {},
   "outputs": [
    {
     "data": {
      "text/plain": [
       "3                      We should head back to the wall.\n",
       "5      Our orders were to track the wildlings. We tr...\n",
       "11                                 See where they went.\n",
       "Name: Dailouges, dtype: object"
      ]
     },
     "execution_count": 128,
     "metadata": {},
     "output_type": "execute_result"
    }
   ],
   "source": [
    "C6=character_groups.get_group('GARED')['Dailouges']\n",
    "C6"
   ]
  },
  {
   "cell_type": "code",
   "execution_count": 130,
   "id": "7d10b86f",
   "metadata": {},
   "outputs": [],
   "source": [
    "C6.to_csv(r'C:\\\\Users\\NEKEAPOLLO\\scripts\\C6.txt',index=False ,header=False) "
   ]
  },
  {
   "cell_type": "code",
   "execution_count": 131,
   "id": "58c638a0",
   "metadata": {},
   "outputs": [
    {
     "data": {
      "text/plain": [
       "['back',\n",
       " 'head',\n",
       " 'more',\n",
       " 'no',\n",
       " 'orders',\n",
       " 'our',\n",
       " 'see',\n",
       " 'should',\n",
       " 'the',\n",
       " 'them',\n",
       " 'they',\n",
       " 'to',\n",
       " 'track',\n",
       " 'tracked',\n",
       " 'trouble',\n",
       " 'us',\n",
       " 'wall',\n",
       " 'we',\n",
       " 'went',\n",
       " 'were',\n",
       " 'where',\n",
       " 'wildlings',\n",
       " 'wont']"
      ]
     },
     "execution_count": 131,
     "metadata": {},
     "output_type": "execute_result"
    }
   ],
   "source": [
    "\n",
    "    text_file=open(r'C:\\\\Users\\NEKEAPOLLO\\scripts\\C6.txt')\n",
    "    text=text_file.read()\n",
    "    text=text.lower()\n",
    "    words=text.split()\n",
    "    words=[word.strip('.,!;()[]') for word in words]\n",
    "    words=[word.replace('â€™','') for word in words]\n",
    "    unique=[]\n",
    "    for word in words:\n",
    "            if word not in unique:\n",
    "                unique.append(word)\n",
    "    unique.sort()\n",
    "    unique"
   ]
  },
  {
   "cell_type": "code",
   "execution_count": 132,
   "id": "376832c2",
   "metadata": {},
   "outputs": [],
   "source": [
    "GARED=unique\n",
    "GARED2=pd.DataFrame(GARED)"
   ]
  },
  {
   "cell_type": "code",
   "execution_count": 138,
   "id": "64b448de",
   "metadata": {},
   "outputs": [],
   "source": [
    "GARED2.to_csv(r'C:\\\\Users\\NEKEAPOLLO\\scripts\\GARED.txt',index=False,header=False)"
   ]
  },
  {
   "cell_type": "markdown",
   "id": "e8456f06",
   "metadata": {},
   "source": [
    "# JAIME"
   ]
  },
  {
   "cell_type": "code",
   "execution_count": 135,
   "id": "0b38cf48",
   "metadata": {},
   "outputs": [
    {
     "data": {
      "text/plain": [
       "67                               But who would he tell?\n",
       "69     If he told the king, both our heads would be ...\n",
       "71     That’s an honor I can do without. Their days ...\n",
       "Name: Dailouges, dtype: object"
      ]
     },
     "execution_count": 135,
     "metadata": {},
     "output_type": "execute_result"
    }
   ],
   "source": [
    "C7=character_groups.get_group('JAIME')['Dailouges']\n",
    "C7"
   ]
  },
  {
   "cell_type": "code",
   "execution_count": 136,
   "id": "c8166238",
   "metadata": {},
   "outputs": [],
   "source": [
    "C7.to_csv(r'C:\\\\Users\\NEKEAPOLLO\\scripts\\C7.txt',index=False ,header=False) "
   ]
  },
  {
   "cell_type": "code",
   "execution_count": 137,
   "id": "dc5b4f2a",
   "metadata": {},
   "outputs": [
    {
     "data": {
      "text/plain": [
       "['\"',\n",
       " 'a',\n",
       " 'an',\n",
       " 'and',\n",
       " 'are',\n",
       " 'around?',\n",
       " 'arryn',\n",
       " 'be',\n",
       " 'boars',\n",
       " 'both',\n",
       " 'but',\n",
       " 'by',\n",
       " 'can',\n",
       " 'choose',\n",
       " 'city',\n",
       " 'days',\n",
       " 'didnt',\n",
       " 'died',\n",
       " 'do',\n",
       " 'fucking',\n",
       " 'gates',\n",
       " 'go',\n",
       " 'hand',\n",
       " 'he',\n",
       " 'heads',\n",
       " 'hes',\n",
       " 'him',\n",
       " 'his',\n",
       " 'honor',\n",
       " 'hunting',\n",
       " 'i',\n",
       " 'if',\n",
       " 'is',\n",
       " 'it',\n",
       " 'job',\n",
       " 'jon',\n",
       " 'king',\n",
       " 'knew',\n",
       " 'know',\n",
       " 'life',\n",
       " 'lives',\n",
       " 'long',\n",
       " 'new',\n",
       " 'now',\n",
       " 'of',\n",
       " 'off',\n",
       " 'on',\n",
       " 'on.\"',\n",
       " 'or',\n",
       " 'other',\n",
       " 'our',\n",
       " 'robert',\n",
       " 'short.\"',\n",
       " 'skewered',\n",
       " 'someone',\n",
       " 'tell?',\n",
       " 'thats',\n",
       " 'the',\n",
       " 'their',\n",
       " 'to',\n",
       " 'told',\n",
       " 'too',\n",
       " 'way',\n",
       " 'whatever',\n",
       " 'while',\n",
       " 'who',\n",
       " 'whores',\n",
       " 'will',\n",
       " 'with',\n",
       " 'without',\n",
       " 'would']"
      ]
     },
     "execution_count": 137,
     "metadata": {},
     "output_type": "execute_result"
    }
   ],
   "source": [
    "\n",
    "    text_file=open(r'C:\\\\Users\\NEKEAPOLLO\\scripts\\C7.txt')\n",
    "    text=text_file.read()\n",
    "    text=text.lower()\n",
    "    words=text.split()\n",
    "    words=[word.strip('.,!;()[]') for word in words]\n",
    "    words=[word.replace('â€™','') for word in words]\n",
    "    unique=[]\n",
    "    for word in words:\n",
    "            if word not in unique:\n",
    "                unique.append(word)\n",
    "    unique.sort()\n",
    "    unique"
   ]
  },
  {
   "cell_type": "code",
   "execution_count": 140,
   "id": "0c5327ab",
   "metadata": {},
   "outputs": [],
   "source": [
    "JAMIE=unique\n",
    "JAMIE2=pd.DataFrame(JAMIE)"
   ]
  },
  {
   "cell_type": "code",
   "execution_count": 142,
   "id": "b14ba956",
   "metadata": {},
   "outputs": [],
   "source": [
    "JAMIE2.to_csv(r'C:\\\\Users\\NEKEAPOLLO\\scripts\\JAMIE.txt',index=False,header=False)"
   ]
  },
  {
   "cell_type": "markdown",
   "id": "93670597",
   "metadata": {},
   "source": [
    "# JON"
   ]
  },
  {
   "cell_type": "code",
   "execution_count": 144,
   "id": "70a1266c",
   "metadata": {},
   "outputs": [
    {
     "data": {
      "text/plain": [
       "13                            Go on. Father’s watching.\n",
       "14                                     And your mother.\n",
       "19                          Don’t think too much, Bran.\n",
       "31                          Father will know if you do.\n",
       "33                                        You did well.\n",
       "43                                          What is it?\n",
       "50                                  Now there are five.\n",
       "51                                 You want to hold it?\n",
       "61     Lord Stark? There are five pups. One for each...\n",
       "64                             I’m not a Stark. Get on.\n",
       "Name: Dailouges, dtype: object"
      ]
     },
     "execution_count": 144,
     "metadata": {},
     "output_type": "execute_result"
    }
   ],
   "source": [
    "C8=character_groups.get_group('JON')['Dailouges']\n",
    "C8"
   ]
  },
  {
   "cell_type": "code",
   "execution_count": 145,
   "id": "938bb239",
   "metadata": {},
   "outputs": [],
   "source": [
    "C8.to_csv(r'C:\\\\Users\\NEKEAPOLLO\\scripts\\C8.txt',index=False ,header=False) "
   ]
  },
  {
   "cell_type": "code",
   "execution_count": 146,
   "id": "5a0263fd",
   "metadata": {},
   "outputs": [
    {
     "data": {
      "text/plain": [
       "['\"',\n",
       " 'a',\n",
       " 'and',\n",
       " 'are',\n",
       " 'bran.\"',\n",
       " 'children',\n",
       " 'did',\n",
       " 'direwolf',\n",
       " 'do',\n",
       " 'dont',\n",
       " 'each',\n",
       " 'father',\n",
       " 'fathers',\n",
       " 'five',\n",
       " 'for',\n",
       " 'get',\n",
       " 'go',\n",
       " 'have',\n",
       " 'hold',\n",
       " 'house',\n",
       " 'if',\n",
       " 'im',\n",
       " 'is',\n",
       " 'it?',\n",
       " 'know',\n",
       " 'lord',\n",
       " 'meant',\n",
       " 'mother',\n",
       " 'much',\n",
       " 'not',\n",
       " 'now',\n",
       " 'of',\n",
       " 'on',\n",
       " 'one',\n",
       " 'pups',\n",
       " 'sigil',\n",
       " 'stark',\n",
       " 'stark?',\n",
       " 'the',\n",
       " 'them',\n",
       " 'there',\n",
       " 'they',\n",
       " 'think',\n",
       " 'to',\n",
       " 'too',\n",
       " 'want',\n",
       " 'watching',\n",
       " 'well',\n",
       " 'were',\n",
       " 'what',\n",
       " 'will',\n",
       " 'you',\n",
       " 'your']"
      ]
     },
     "execution_count": 146,
     "metadata": {},
     "output_type": "execute_result"
    }
   ],
   "source": [
    "\n",
    "    text_file=open(r'C:\\\\Users\\NEKEAPOLLO\\scripts\\C8.txt')\n",
    "    text=text_file.read()\n",
    "    text=text.lower()\n",
    "    words=text.split()\n",
    "    words=[word.strip('.,!;()[]') for word in words]\n",
    "    words=[word.replace('â€™','') for word in words]\n",
    "    unique=[]\n",
    "    for word in words:\n",
    "            if word not in unique:\n",
    "                unique.append(word)\n",
    "    unique.sort()\n",
    "    unique"
   ]
  },
  {
   "cell_type": "code",
   "execution_count": 147,
   "id": "d105fa79",
   "metadata": {},
   "outputs": [],
   "source": [
    "JON=unique\n",
    "JON2=pd.DataFrame(JON)"
   ]
  },
  {
   "cell_type": "code",
   "execution_count": 149,
   "id": "8159d5cb",
   "metadata": {},
   "outputs": [],
   "source": [
    "JON2.to_csv(r'C:\\\\Users\\NEKEAPOLLO\\scripts\\JON.txt',index=False,header=False)"
   ]
  },
  {
   "cell_type": "markdown",
   "id": "cae83942",
   "metadata": {},
   "source": [
    "# NED"
   ]
  },
  {
   "cell_type": "code",
   "execution_count": 150,
   "id": "131198ad",
   "metadata": {},
   "outputs": [
    {
     "data": {
      "text/plain": [
       "18      And which one of you was a marksman at ten? K...\n",
       "22                  Get the lads to saddle their horses.\n",
       "24                                He swore an oath, Cat.\n",
       "26                           Tell Bran he’s coming, too.\n",
       "28      He won’t be a boy forever. And winter is coming.\n",
       "30                King of the Andals and the First Men …\n",
       "32      Lord of the Seven Kingdoms and protector of t...\n",
       "34                          You understand why I did it?\n",
       "36          But do you understand why I had to kill him?\n",
       "38      The man who passes the sentence should swing ...\n",
       "40      The White Walkers have been gone for thousand...\n",
       "42                           A madman sees what he sees.\n",
       "45           There are no mountain lions in these woods.\n",
       "47                                      It’s a direwolf.\n",
       "48                                      Tough old beast.\n",
       "54      Better a quick death. They won’t last without...\n",
       "60                                      I’m sorry, Bran.\n",
       "62      You will train them yourselves. You will feed...\n",
       "73      You have five northern children. You’re not a...\n",
       "75                    It’s your gods with all the rules.\n",
       "77                                              Tell me.\n",
       "86                                           Your Grace.\n",
       "91      Guarding the North for you, Your Grace. Winte...\n",
       "99                                             My queen.\n",
       "106                             Tell me about Jon Arryn.\n",
       "108                                         We both did.\n",
       "110                                                 Aye.\n",
       "Name: Dailouges, dtype: object"
      ]
     },
     "execution_count": 150,
     "metadata": {},
     "output_type": "execute_result"
    }
   ],
   "source": [
    "C9=character_groups.get_group('NED')['Dailouges']\n",
    "C9"
   ]
  },
  {
   "cell_type": "code",
   "execution_count": 151,
   "id": "c3a99b75",
   "metadata": {},
   "outputs": [],
   "source": [
    "C9.to_csv(r'C:\\\\Users\\NEKEAPOLLO\\scripts\\C9.txt',index=False ,header=False) "
   ]
  },
  {
   "cell_type": "code",
   "execution_count": 152,
   "id": "131dca87",
   "metadata": {},
   "outputs": [
    {
     "data": {
      "text/plain": [
       "['\"',\n",
       " 'a',\n",
       " 'about',\n",
       " 'all',\n",
       " 'an',\n",
       " 'and',\n",
       " 'andals',\n",
       " 'are',\n",
       " 'arryn',\n",
       " 'at',\n",
       " 'aye',\n",
       " 'be',\n",
       " 'beast',\n",
       " 'been',\n",
       " 'better',\n",
       " 'both',\n",
       " 'boy',\n",
       " 'bran',\n",
       " 'bran.\"',\n",
       " 'bury',\n",
       " 'but',\n",
       " 'cat.\"',\n",
       " 'children',\n",
       " 'coming',\n",
       " 'death',\n",
       " 'did',\n",
       " 'die',\n",
       " 'die.\"',\n",
       " 'direwolf',\n",
       " 'do',\n",
       " 'eddard',\n",
       " 'feed',\n",
       " 'first',\n",
       " 'five',\n",
       " 'for',\n",
       " 'forever',\n",
       " 'get',\n",
       " 'go',\n",
       " 'gods',\n",
       " 'gone',\n",
       " 'grace',\n",
       " 'guarding',\n",
       " 'had',\n",
       " 'have',\n",
       " 'he',\n",
       " 'hes',\n",
       " 'him?',\n",
       " 'horses',\n",
       " 'house',\n",
       " 'i',\n",
       " 'if',\n",
       " 'im',\n",
       " 'in',\n",
       " 'is',\n",
       " 'it?',\n",
       " 'its',\n",
       " 'jon',\n",
       " 'keep',\n",
       " 'kill',\n",
       " 'king',\n",
       " 'kingdoms',\n",
       " 'lads',\n",
       " 'last',\n",
       " 'lions',\n",
       " 'lord',\n",
       " 'madman',\n",
       " 'man',\n",
       " 'marksman',\n",
       " 'me',\n",
       " 'men',\n",
       " 'mother',\n",
       " 'mountain',\n",
       " 'my',\n",
       " 'no',\n",
       " 'north',\n",
       " 'northern',\n",
       " 'not',\n",
       " 'oath',\n",
       " 'of',\n",
       " 'old',\n",
       " 'on.\"',\n",
       " 'one',\n",
       " 'outsider',\n",
       " 'passes',\n",
       " 'practicing',\n",
       " 'protector',\n",
       " 'queen',\n",
       " 'quick',\n",
       " 'realm',\n",
       " 'rules',\n",
       " 'saddle',\n",
       " 'sees',\n",
       " 'sentence',\n",
       " 'seven',\n",
       " 'should',\n",
       " 'sorry',\n",
       " 'stark',\n",
       " 'swing',\n",
       " 'sword',\n",
       " 'swore',\n",
       " 'tell',\n",
       " 'ten?',\n",
       " 'the',\n",
       " 'their',\n",
       " 'them',\n",
       " 'there',\n",
       " 'these',\n",
       " 'they',\n",
       " 'thousands',\n",
       " 'to',\n",
       " 'too.\"',\n",
       " 'tough',\n",
       " 'train',\n",
       " 'understand',\n",
       " 'walkers',\n",
       " 'warden',\n",
       " 'was',\n",
       " 'we',\n",
       " 'what',\n",
       " 'which',\n",
       " 'white',\n",
       " 'who',\n",
       " 'why',\n",
       " 'will',\n",
       " 'winter',\n",
       " 'winterfell',\n",
       " 'with',\n",
       " 'without',\n",
       " 'wont',\n",
       " 'woods',\n",
       " 'years',\n",
       " 'you',\n",
       " 'your',\n",
       " 'youre',\n",
       " 'yours.\"',\n",
       " 'yourselves',\n",
       " 'yourselves.\"',\n",
       " 'â€¦']"
      ]
     },
     "execution_count": 152,
     "metadata": {},
     "output_type": "execute_result"
    }
   ],
   "source": [
    "\n",
    "    text_file=open(r'C:\\\\Users\\NEKEAPOLLO\\scripts\\C9.txt')\n",
    "    text=text_file.read()\n",
    "    text=text.lower()\n",
    "    words=text.split()\n",
    "    words=[word.strip('.,!;()[]') for word in words]\n",
    "    words=[word.replace('â€™','') for word in words]\n",
    "    unique=[]\n",
    "    for word in words:\n",
    "            if word not in unique:\n",
    "                unique.append(word)\n",
    "    unique.sort()\n",
    "    unique"
   ]
  },
  {
   "cell_type": "code",
   "execution_count": 153,
   "id": "08500e4d",
   "metadata": {},
   "outputs": [],
   "source": [
    "NED=unique\n",
    "NED2=pd.DataFrame(NED)"
   ]
  },
  {
   "cell_type": "code",
   "execution_count": 154,
   "id": "9d89c35e",
   "metadata": {},
   "outputs": [],
   "source": [
    "NED2.to_csv(r'C:\\\\Users\\NEKEAPOLLO\\scripts\\NED.txt',index=False ,header=False)"
   ]
  },
  {
   "cell_type": "markdown",
   "id": "f37b9a1f",
   "metadata": {},
   "source": [
    "# ROBB"
   ]
  },
  {
   "cell_type": "code",
   "execution_count": 155,
   "id": "734d3ec0",
   "metadata": {},
   "outputs": [
    {
     "data": {
      "text/plain": [
       "20                                  Relax your bow arm.\n",
       "29                   Lad, go run back and get the rest.\n",
       "49           There are no direwolves south of the Wall.\n",
       "57                                 Put away your blade.\n",
       "65                                          What is it?\n",
       "78            I hear the prince is a right royal prick.\n",
       "80     Go on, Tommy, shave him good. He’s never met ...\n",
       "Name: Dailouges, dtype: object"
      ]
     },
     "execution_count": 155,
     "metadata": {},
     "output_type": "execute_result"
    }
   ],
   "source": [
    "C10=character_groups.get_group('ROBB')['Dailouges']\n",
    "C10"
   ]
  },
  {
   "cell_type": "code",
   "execution_count": 156,
   "id": "2b3b1d27",
   "metadata": {},
   "outputs": [],
   "source": [
    "C10.to_csv(r'C:\\\\Users\\NEKEAPOLLO\\scripts\\C10.txt',index=False ,header=False) "
   ]
  },
  {
   "cell_type": "code",
   "execution_count": 157,
   "id": "d858bde5",
   "metadata": {},
   "outputs": [
    {
     "data": {
      "text/plain": [
       "['\"',\n",
       " 'a',\n",
       " 'and',\n",
       " 'are',\n",
       " 'arm',\n",
       " 'away',\n",
       " 'back',\n",
       " 'better',\n",
       " 'blade',\n",
       " 'bow',\n",
       " 'direwolves',\n",
       " 'get',\n",
       " 'girl',\n",
       " 'go',\n",
       " 'good',\n",
       " 'hair.\"',\n",
       " 'he',\n",
       " 'hear',\n",
       " 'hes',\n",
       " 'him',\n",
       " 'his',\n",
       " 'i',\n",
       " 'is',\n",
       " 'it?',\n",
       " 'lad',\n",
       " 'likes',\n",
       " 'met',\n",
       " 'never',\n",
       " 'no',\n",
       " 'of',\n",
       " 'on',\n",
       " 'own',\n",
       " 'prick',\n",
       " 'prince',\n",
       " 'put',\n",
       " 'relax',\n",
       " 'rest.\"',\n",
       " 'right',\n",
       " 'royal',\n",
       " 'run',\n",
       " 'shave',\n",
       " 'south',\n",
       " 'than',\n",
       " 'the',\n",
       " 'there',\n",
       " 'tommy',\n",
       " 'wall',\n",
       " 'what',\n",
       " 'your']"
      ]
     },
     "execution_count": 157,
     "metadata": {},
     "output_type": "execute_result"
    }
   ],
   "source": [
    "\n",
    "    text_file=open(r'C:\\\\Users\\NEKEAPOLLO\\scripts\\C10.txt')\n",
    "    text=text_file.read()\n",
    "    text=text.lower()\n",
    "    words=text.split()\n",
    "    words=[word.strip('.,!;()[]') for word in words]\n",
    "    words=[word.replace('â€™','') for word in words]\n",
    "    unique=[]\n",
    "    for word in words:\n",
    "            if word not in unique:\n",
    "                unique.append(word)\n",
    "    unique.sort()\n",
    "    unique"
   ]
  },
  {
   "cell_type": "code",
   "execution_count": 158,
   "id": "fe7b0d15",
   "metadata": {},
   "outputs": [],
   "source": [
    "ROBB=unique\n",
    "ROBB2=pd.DataFrame(ROBB)"
   ]
  },
  {
   "cell_type": "code",
   "execution_count": 159,
   "id": "cb84b04d",
   "metadata": {},
   "outputs": [],
   "source": [
    "ROBB2.to_csv(r'C:\\\\Users\\NEKEAPOLLO\\scripts\\ROBB.txt',index=False,header=False)"
   ]
  },
  {
   "cell_type": "markdown",
   "id": "31601556",
   "metadata": {},
   "source": [
    "# ROBERT "
   ]
  },
  {
   "cell_type": "code",
   "execution_count": 162,
   "id": "6588c792",
   "metadata": {},
   "outputs": [
    {
     "data": {
      "text/plain": [
       "87                                       You’ve got fat.\n",
       "88                                                  Cat!\n",
       "90      Nine years. Why haven’t I seen you? Where the...\n",
       "94                   Who have we here? You must be Robb.\n",
       "96       Ooh. Show us your muscles. You’ll be a soldier.\n",
       "101     Take me to your crypt. I want to pay my respe...\n",
       "103                                                 Ned.\n",
       "107     One minute he was fine, and then … Burned rig...\n",
       "109     He never had to teach you much, but me … You ...\n",
       "Name: Dailouges, dtype: object"
      ]
     },
     "execution_count": 162,
     "metadata": {},
     "output_type": "execute_result"
    }
   ],
   "source": [
    "C11=character_groups.get_group('ROBERT')['Dailouges']\n",
    "C11"
   ]
  },
  {
   "cell_type": "code",
   "execution_count": 163,
   "id": "0eaa3f81",
   "metadata": {},
   "outputs": [],
   "source": [
    "C11.to_csv(r'C:\\\\Users\\NEKEAPOLLO\\scripts\\C11.txt',index=False ,header=False) "
   ]
  },
  {
   "cell_type": "code",
   "execution_count": 164,
   "id": "6ffe2400",
   "metadata": {
    "scrolled": true
   },
   "outputs": [
    {
     "data": {
      "text/plain": [
       "['\"',\n",
       " '16?',\n",
       " 'a',\n",
       " 'all',\n",
       " 'and',\n",
       " 'at',\n",
       " 'be',\n",
       " 'been?',\n",
       " 'burned',\n",
       " 'but',\n",
       " 'cat',\n",
       " 'crack',\n",
       " 'crypt',\n",
       " 'do',\n",
       " 'fat',\n",
       " 'fine',\n",
       " 'fuck',\n",
       " 'girls',\n",
       " 'got',\n",
       " 'had',\n",
       " 'have',\n",
       " 'havent',\n",
       " 'he',\n",
       " 'hell',\n",
       " 'here?',\n",
       " 'him',\n",
       " 'i',\n",
       " 'it',\n",
       " 'loved',\n",
       " 'man.\"',\n",
       " 'me',\n",
       " 'minute',\n",
       " 'much',\n",
       " 'muscles',\n",
       " 'must',\n",
       " 'my',\n",
       " 'ned',\n",
       " 'never',\n",
       " 'nine',\n",
       " 'one',\n",
       " 'ooh',\n",
       " 'pay',\n",
       " 'remember',\n",
       " 'respects',\n",
       " 'right',\n",
       " 'robb',\n",
       " 'seen',\n",
       " 'show',\n",
       " 'showed',\n",
       " 'skulls',\n",
       " 'soldier',\n",
       " 'take',\n",
       " 'teach',\n",
       " 'that',\n",
       " 'the',\n",
       " 'then',\n",
       " 'through',\n",
       " 'to',\n",
       " 'us',\n",
       " 'want',\n",
       " 'wanted',\n",
       " 'was',\n",
       " 'we',\n",
       " 'what',\n",
       " 'what.\"',\n",
       " 'whatever',\n",
       " 'where',\n",
       " 'who',\n",
       " 'why',\n",
       " 'years',\n",
       " 'you',\n",
       " 'you?',\n",
       " 'youll',\n",
       " 'your',\n",
       " 'youve',\n",
       " 'â€¦']"
      ]
     },
     "execution_count": 164,
     "metadata": {},
     "output_type": "execute_result"
    }
   ],
   "source": [
    "\n",
    "    text_file=open(r'C:\\\\Users\\NEKEAPOLLO\\scripts\\C11.txt')\n",
    "    text=text_file.read()\n",
    "    text=text.lower()\n",
    "    words=text.split()\n",
    "    words=[word.strip('.,!;()[]') for word in words]\n",
    "    words=[word.replace('â€™','') for word in words]\n",
    "    unique=[]\n",
    "    for word in words:\n",
    "            if word not in unique:\n",
    "                unique.append(word)\n",
    "    unique.sort()\n",
    "    unique"
   ]
  },
  {
   "cell_type": "code",
   "execution_count": 165,
   "id": "29551077",
   "metadata": {},
   "outputs": [],
   "source": [
    "ROBERT=unique\n",
    "ROBERT2=pd.DataFrame(ROBERT)"
   ]
  },
  {
   "cell_type": "code",
   "execution_count": 166,
   "id": "cdb427aa",
   "metadata": {},
   "outputs": [],
   "source": [
    "ROBERT2.to_csv(r'C:\\\\Users\\NEKEAPOLLO\\scripts\\ROBERT.txt',index=False ,header=False)"
   ]
  },
  {
   "cell_type": "markdown",
   "id": "5be94414",
   "metadata": {},
   "source": [
    "# ROYCE"
   ]
  },
  {
   "cell_type": "code",
   "execution_count": 167,
   "id": "6d01ae8f",
   "metadata": {},
   "outputs": [
    {
     "data": {
      "text/plain": [
       "4                             Do the dead frighten you?\n",
       "6      You don’t think he’ll ask us how they died? G...\n",
       "8      It’s a good thing we’re not children. You wan...\n",
       "9                Your dead men seem to have moved camp.\n",
       "12                                          What is it?\n",
       "Name: Dailouges, dtype: object"
      ]
     },
     "execution_count": 167,
     "metadata": {},
     "output_type": "execute_result"
    }
   ],
   "source": [
    "C12=character_groups.get_group('ROYCE')['Dailouges']\n",
    "C12"
   ]
  },
  {
   "cell_type": "code",
   "execution_count": 168,
   "id": "731493db",
   "metadata": {},
   "outputs": [],
   "source": [
    "C12.to_csv(r'C:\\\\Users\\NEKEAPOLLO\\scripts\\C12.txt',index=False ,header=False) "
   ]
  },
  {
   "cell_type": "code",
   "execution_count": 169,
   "id": "05ea761d",
   "metadata": {},
   "outputs": [
    {
     "data": {
      "text/plain": [
       "['\"',\n",
       " 'a',\n",
       " 'again.\"',\n",
       " 'as',\n",
       " 'ask',\n",
       " 'away',\n",
       " 'back',\n",
       " 'behead',\n",
       " 'camp',\n",
       " 'catch',\n",
       " 'children',\n",
       " 'course',\n",
       " 'dead',\n",
       " 'deserter',\n",
       " 'died?',\n",
       " 'do',\n",
       " 'dont',\n",
       " 'first',\n",
       " 'frighten',\n",
       " 'get',\n",
       " 'good',\n",
       " 'have',\n",
       " 'hell',\n",
       " 'horse',\n",
       " 'how',\n",
       " 'i',\n",
       " 'if',\n",
       " 'is',\n",
       " 'it',\n",
       " 'it?',\n",
       " 'its',\n",
       " 'men',\n",
       " 'moved',\n",
       " 'not',\n",
       " 'of',\n",
       " 'on',\n",
       " 'run',\n",
       " 'say',\n",
       " 'seem',\n",
       " 'south',\n",
       " 'the',\n",
       " 'they',\n",
       " 'thing',\n",
       " 'think',\n",
       " 'to',\n",
       " 'us',\n",
       " 'want',\n",
       " 'were',\n",
       " 'what',\n",
       " 'will',\n",
       " 'wont',\n",
       " 'you',\n",
       " 'you?',\n",
       " 'your',\n",
       " 'â€¦']"
      ]
     },
     "execution_count": 169,
     "metadata": {},
     "output_type": "execute_result"
    }
   ],
   "source": [
    "\n",
    "    text_file=open(r'C:\\\\Users\\NEKEAPOLLO\\scripts\\C12.txt')\n",
    "    text=text_file.read()\n",
    "    text=text.lower()\n",
    "    words=text.split()\n",
    "    words=[word.strip('.,!;()[]') for word in words]\n",
    "    words=[word.replace('â€™','') for word in words]\n",
    "    unique=[]\n",
    "    for word in words:\n",
    "            if word not in unique:\n",
    "                unique.append(word)\n",
    "    unique.sort()\n",
    "    unique"
   ]
  },
  {
   "cell_type": "code",
   "execution_count": 170,
   "id": "5093a2ea",
   "metadata": {},
   "outputs": [],
   "source": [
    " ROYCE=unique\n",
    "ROYCE2=pd.DataFrame(ROYCE)"
   ]
  },
  {
   "cell_type": "code",
   "execution_count": 172,
   "id": "5fa80b6b",
   "metadata": {},
   "outputs": [],
   "source": [
    "ROYCE2.to_csv(r'C:\\\\Users\\NEKEAPOLLO\\scripts\\ROYCE.txt',index=False ,header=False)"
   ]
  },
  {
   "cell_type": "markdown",
   "id": "52cc58e0",
   "metadata": {},
   "source": [
    "# SANSA"
   ]
  },
  {
   "cell_type": "code",
   "execution_count": 173,
   "id": "66da7f2e",
   "metadata": {},
   "outputs": [
    {
     "data": {
      "text/plain": [
       "16                    Thank you.\n",
       "93             Will you shut up?\n",
       "98     Would you please shut up.\n",
       "Name: Dailouges, dtype: object"
      ]
     },
     "execution_count": 173,
     "metadata": {},
     "output_type": "execute_result"
    }
   ],
   "source": [
    "C13=character_groups.get_group('SANSA')['Dailouges']\n",
    "C13"
   ]
  },
  {
   "cell_type": "code",
   "execution_count": 174,
   "id": "6f0a09cb",
   "metadata": {},
   "outputs": [],
   "source": [
    "C13.to_csv(r'C:\\\\Users\\NEKEAPOLLO\\scripts\\C13.txt',index=False ,header=False) "
   ]
  },
  {
   "cell_type": "code",
   "execution_count": 175,
   "id": "537e83ea",
   "metadata": {},
   "outputs": [
    {
     "data": {
      "text/plain": [
       "['please', 'shut', 'thank', 'up', 'up?', 'will', 'would', 'you']"
      ]
     },
     "execution_count": 175,
     "metadata": {},
     "output_type": "execute_result"
    }
   ],
   "source": [
    "\n",
    "    text_file=open(r'C:\\\\Users\\NEKEAPOLLO\\scripts\\C13.txt')\n",
    "    text=text_file.read()\n",
    "    text=text.lower()\n",
    "    words=text.split()\n",
    "    words=[word.strip('.,!;()[]') for word in words]\n",
    "    words=[word.replace('â€™','') for word in words]\n",
    "    unique=[]\n",
    "    for word in words:\n",
    "            if word not in unique:\n",
    "                unique.append(word)\n",
    "    unique.sort()\n",
    "    unique"
   ]
  },
  {
   "cell_type": "code",
   "execution_count": 176,
   "id": "ec8f0c5a",
   "metadata": {},
   "outputs": [],
   "source": [
    "SANSA=unique\n",
    "SANSA2=pd.DataFrame(SANSA)"
   ]
  },
  {
   "cell_type": "code",
   "execution_count": 178,
   "id": "77c6bd8b",
   "metadata": {},
   "outputs": [],
   "source": [
    "SANSA2.to_csv(r'C:\\\\Users\\NEKEAPOLLO\\scripts\\SANSA.txt',index=False ,header=False)"
   ]
  },
  {
   "cell_type": "markdown",
   "id": "1e61ca1b",
   "metadata": {},
   "source": [
    "# SEPTA MORDANE"
   ]
  },
  {
   "cell_type": "code",
   "execution_count": 179,
   "id": "9dc868ee",
   "metadata": {},
   "outputs": [
    {
     "data": {
      "text/plain": [
       "15                     Fine work, as always. Well done.\n",
       "17     I love the detail that you’ve managed to get ...\n",
       "Name: Dailouges, dtype: object"
      ]
     },
     "execution_count": 179,
     "metadata": {},
     "output_type": "execute_result"
    }
   ],
   "source": [
    "C14=character_groups.get_group('SEPTA MORDANE')['Dailouges']\n",
    "C14"
   ]
  },
  {
   "cell_type": "code",
   "execution_count": 186,
   "id": "47d7de90",
   "metadata": {},
   "outputs": [],
   "source": [
    "C14.to_csv(r'C:\\\\Users\\NEKEAPOLLO\\scripts\\C14.txt',index=False ,header=False) "
   ]
  },
  {
   "cell_type": "code",
   "execution_count": 187,
   "id": "65c16a9d",
   "metadata": {},
   "outputs": [
    {
     "data": {
      "text/plain": [
       "['\"',\n",
       " 'always',\n",
       " 'as',\n",
       " 'corners',\n",
       " 'detail',\n",
       " 'done.\"',\n",
       " 'fine',\n",
       " 'get',\n",
       " 'i',\n",
       " 'in',\n",
       " 'love',\n",
       " 'managed',\n",
       " 'that',\n",
       " 'the',\n",
       " 'this',\n",
       " 'to',\n",
       " 'well',\n",
       " 'work',\n",
       " 'youve']"
      ]
     },
     "execution_count": 187,
     "metadata": {},
     "output_type": "execute_result"
    }
   ],
   "source": [
    "\n",
    "    text_file=open(r'C:\\\\Users\\NEKEAPOLLO\\scripts\\C14.txt')\n",
    "    text=text_file.read()\n",
    "    text=text.lower()\n",
    "    words=text.split()\n",
    "    words=[word.strip('.,!;()[]') for word in words]\n",
    "    words=[word.replace('â€™','') for word in words]\n",
    "    unique=[]\n",
    "    for word in words:\n",
    "            if word not in unique:\n",
    "                unique.append(word)\n",
    "    unique.sort()\n",
    "    unique"
   ]
  },
  {
   "cell_type": "code",
   "execution_count": 188,
   "id": "2febf911",
   "metadata": {},
   "outputs": [],
   "source": [
    "SEPTA_MORDANE=unique\n",
    "SEPTA_MORDANE2=pd.DataFrame(SEPTA_MORDANE)\n"
   ]
  },
  {
   "cell_type": "code",
   "execution_count": 189,
   "id": "48b3ea30",
   "metadata": {},
   "outputs": [],
   "source": [
    "SEPTA_MORDANE2.to_csv(r'C:\\\\Users\\NEKEAPOLLO\\scripts\\SEPTA_MORDANE.txt',index=False ,header=False)"
   ]
  },
  {
   "cell_type": "markdown",
   "id": "7ba4e76e",
   "metadata": {},
   "source": [
    "# THEON"
   ]
  },
  {
   "cell_type": "code",
   "execution_count": 190,
   "id": "a2c02585",
   "metadata": {},
   "outputs": [
    {
     "data": {
      "text/plain": [
       "44                                       Mountain lion?\n",
       "46                                        It’s a freak.\n",
       "55                                 Right. Give it here.\n",
       "58             I take orders from your father, not you.\n",
       "79     Think of all those southern girls he gets to ...\n",
       "Name: Dailouges, dtype: object"
      ]
     },
     "execution_count": 190,
     "metadata": {},
     "output_type": "execute_result"
    }
   ],
   "source": [
    "C15=character_groups.get_group('THEON')['Dailouges']\n",
    "C15"
   ]
  },
  {
   "cell_type": "code",
   "execution_count": 191,
   "id": "032912c5",
   "metadata": {},
   "outputs": [],
   "source": [
    "C15.to_csv(r'C:\\\\Users\\NEKEAPOLLO\\scripts\\C15.txt',index=False ,header=False) "
   ]
  },
  {
   "cell_type": "code",
   "execution_count": 192,
   "id": "493fb0fd",
   "metadata": {},
   "outputs": [
    {
     "data": {
      "text/plain": [
       "['\"',\n",
       " 'a',\n",
       " 'all',\n",
       " 'father',\n",
       " 'freak',\n",
       " 'from',\n",
       " 'gets',\n",
       " 'girls',\n",
       " 'give',\n",
       " 'he',\n",
       " 'here',\n",
       " 'his',\n",
       " 'i',\n",
       " 'it',\n",
       " 'its',\n",
       " 'lion?',\n",
       " 'mountain',\n",
       " 'not',\n",
       " 'of',\n",
       " 'orders',\n",
       " 'prick',\n",
       " 'right',\n",
       " 'royal',\n",
       " 'southern',\n",
       " 'stab',\n",
       " 'take',\n",
       " 'think',\n",
       " 'those',\n",
       " 'to',\n",
       " 'with',\n",
       " 'you.\"',\n",
       " 'your']"
      ]
     },
     "execution_count": 192,
     "metadata": {},
     "output_type": "execute_result"
    }
   ],
   "source": [
    "\n",
    "    text_file=open(r'C:\\\\Users\\NEKEAPOLLO\\scripts\\C15.txt')\n",
    "    text=text_file.read()\n",
    "    text=text.lower()\n",
    "    words=text.split()\n",
    "    words=[word.strip('.,!;()[]') for word in words]\n",
    "    words=[word.replace('â€™','') for word in words]\n",
    "    unique=[]\n",
    "    for word in words:\n",
    "            if word not in unique:\n",
    "                unique.append(word)\n",
    "    unique.sort()\n",
    "    unique"
   ]
  },
  {
   "cell_type": "code",
   "execution_count": 193,
   "id": "5c8c4517",
   "metadata": {},
   "outputs": [],
   "source": [
    "THEON=unique\n",
    "THEON2=pd.DataFrame(THEON)\n"
   ]
  },
  {
   "cell_type": "code",
   "execution_count": 194,
   "id": "5be48625",
   "metadata": {},
   "outputs": [],
   "source": [
    "THEON2.to_csv(r'C:\\\\Users\\NEKEAPOLLO\\scripts\\THEON.txt',index=False ,header=False)"
   ]
  },
  {
   "cell_type": "markdown",
   "id": "7bb7f9d7",
   "metadata": {},
   "source": [
    "# WAYMAR ROYCE"
   ]
  },
  {
   "cell_type": "code",
   "execution_count": 195,
   "id": "db4653c5",
   "metadata": {},
   "outputs": [
    {
     "data": {
      "text/plain": [
       "1     How close did you get?\n",
       "Name: Dailouges, dtype: object"
      ]
     },
     "execution_count": 195,
     "metadata": {},
     "output_type": "execute_result"
    }
   ],
   "source": [
    "C16=character_groups.get_group('WAYMAR ROYCE')['Dailouges']\n",
    "C16"
   ]
  },
  {
   "cell_type": "code",
   "execution_count": 196,
   "id": "3d2f52e8",
   "metadata": {},
   "outputs": [],
   "source": [
    "C16.to_csv(r'C:\\\\Users\\NEKEAPOLLO\\scripts\\C16.txt',index=False ,header=False) "
   ]
  },
  {
   "cell_type": "code",
   "execution_count": 197,
   "id": "5a5b5743",
   "metadata": {},
   "outputs": [
    {
     "data": {
      "text/plain": [
       "['close', 'did', 'get?', 'how', 'you']"
      ]
     },
     "execution_count": 197,
     "metadata": {},
     "output_type": "execute_result"
    }
   ],
   "source": [
    "\n",
    "    text_file=open(r'C:\\\\Users\\NEKEAPOLLO\\scripts\\C16.txt')\n",
    "    text=text_file.read()\n",
    "    text=text.lower()\n",
    "    words=text.split()\n",
    "    words=[word.strip('.,!;()[]') for word in words]\n",
    "    words=[word.replace('â€™','') for word in words]\n",
    "    unique=[]\n",
    "    for word in words:\n",
    "            if word not in unique:\n",
    "                unique.append(word)\n",
    "    unique.sort()\n",
    "    unique"
   ]
  },
  {
   "cell_type": "code",
   "execution_count": 198,
   "id": "255a3894",
   "metadata": {},
   "outputs": [],
   "source": [
    "WAYMAR_ROYCE=unique\n",
    "WAYMAR_ROYCE2=pd.DataFrame(WAYMAR_ROYCE)"
   ]
  },
  {
   "cell_type": "code",
   "execution_count": 199,
   "id": "036908fb",
   "metadata": {},
   "outputs": [],
   "source": [
    "WAYMAR_ROYCE2.to_csv(r'C:\\\\Users\\NEKEAPOLLO\\scripts\\WAYMAR_ROYCE.txt',index=False ,header=False)"
   ]
  },
  {
   "cell_type": "markdown",
   "id": "fc655d4f",
   "metadata": {},
   "source": [
    "# WILL"
   ]
  },
  {
   "cell_type": "code",
   "execution_count": 200,
   "id": "eda48ac4",
   "metadata": {},
   "outputs": [
    {
     "data": {
      "text/plain": [
       "0      I’ve never seen wildlings do a thing like thi...\n",
       "2                               Close as any man would.\n",
       "7      Whatever did it to them could do it to us. Th...\n",
       "10                                      They were here.\n",
       "Name: Dailouges, dtype: object"
      ]
     },
     "execution_count": 200,
     "metadata": {},
     "output_type": "execute_result"
    }
   ],
   "source": [
    "C17=character_groups.get_group('WILL')['Dailouges']\n",
    "C17"
   ]
  },
  {
   "cell_type": "code",
   "execution_count": 205,
   "id": "b61470c0",
   "metadata": {},
   "outputs": [],
   "source": [
    "C17.to_csv(r'C:\\\\Users\\NEKEAPOLLO\\scripts\\C17.txt',index=False ,header=False) "
   ]
  },
  {
   "cell_type": "code",
   "execution_count": 210,
   "id": "b21fe172",
   "metadata": {},
   "outputs": [
    {
     "data": {
      "text/plain": [
       "['\"',\n",
       " 'a',\n",
       " 'any',\n",
       " 'as',\n",
       " 'children',\n",
       " 'close',\n",
       " 'could',\n",
       " 'did',\n",
       " 'do',\n",
       " 'even',\n",
       " 'ever',\n",
       " 'here',\n",
       " 'in',\n",
       " 'it',\n",
       " 'ive',\n",
       " 'killed',\n",
       " 'life.\"',\n",
       " 'like',\n",
       " 'man',\n",
       " 'my',\n",
       " 'never',\n",
       " 'not',\n",
       " 'seen',\n",
       " 'the',\n",
       " 'them',\n",
       " 'they',\n",
       " 'thing',\n",
       " 'this',\n",
       " 'to',\n",
       " 'us',\n",
       " 'were',\n",
       " 'whatever',\n",
       " 'wildlings',\n",
       " 'would']"
      ]
     },
     "execution_count": 210,
     "metadata": {},
     "output_type": "execute_result"
    }
   ],
   "source": [
    "\n",
    "    text_file=open(r'C:\\\\Users\\NEKEAPOLLO\\scripts\\C17.txt')\n",
    "    text=text_file.read()\n",
    "    text=text.lower()\n",
    "    words=text.split()\n",
    "    words=[word.strip('.,!;()[]') for word in words]\n",
    "    words=[word.replace('â€™','') for word in words]\n",
    "    unique=[]\n",
    "    for word in words:\n",
    "            if word not in unique:\n",
    "                unique.append(word)\n",
    "    unique.sort()\n",
    "    unique"
   ]
  },
  {
   "cell_type": "code",
   "execution_count": 207,
   "id": "e4af8589",
   "metadata": {},
   "outputs": [],
   "source": [
    "WILL=unique\n",
    "WILL2=pd.DataFrame(WILL)"
   ]
  },
  {
   "cell_type": "code",
   "execution_count": 208,
   "id": "2f90ddcf",
   "metadata": {},
   "outputs": [],
   "source": [
    "WILL2.to_csv(r'C:\\\\Users\\NEKEAPOLLO\\scripts\\WILL.txt',index=False ,header=False)"
   ]
  }
 ],
 "metadata": {
  "kernelspec": {
   "display_name": "Python 3 (ipykernel)",
   "language": "python",
   "name": "python3"
  },
  "language_info": {
   "codemirror_mode": {
    "name": "ipython",
    "version": 3
   },
   "file_extension": ".py",
   "mimetype": "text/x-python",
   "name": "python",
   "nbconvert_exporter": "python",
   "pygments_lexer": "ipython3",
   "version": "3.9.12"
  }
 },
 "nbformat": 4,
 "nbformat_minor": 5
}
